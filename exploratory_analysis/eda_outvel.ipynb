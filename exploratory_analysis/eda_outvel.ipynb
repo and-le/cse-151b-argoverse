{
 "cells": [
  {
   "cell_type": "code",
   "execution_count": 1,
   "metadata": {},
   "outputs": [],
   "source": [
    "import numpy as np\n",
    "import pandas as pd\n",
    "import matplotlib.pyplot as plt\n",
    "import seaborn as sns\n",
    "import scipy\n",
    "import os\n",
    "import pickle\n",
    "import tqdm\n",
    "import tqdm.notebook"
   ]
  },
  {
   "cell_type": "code",
   "execution_count": 2,
   "metadata": {},
   "outputs": [],
   "source": [
    "%matplotlib inline\n",
    "sns.set(rc={\"figure.dpi\":100, 'savefig.dpi':100})\n",
    "sns.set_context('notebook')"
   ]
  },
  {
   "cell_type": "code",
   "execution_count": 3,
   "metadata": {},
   "outputs": [],
   "source": [
    "# File paths\n",
    "OUT_VEL_FILE = '../feature_data/output_velocities.csv'\n",
    "\n",
    "# Keys to the pickle objects\n",
    "CITY = 'city'\n",
    "LANE = 'lane'\n",
    "LANE_NORM = 'lane_norm'\n",
    "SCENE_IDX = 'scene_idx'\n",
    "AGENT_ID = 'agent_id'\n",
    "P_IN = 'p_in'\n",
    "V_IN = 'v_in'\n",
    "P_OUT = 'p_out'\n",
    "V_OUT = 'v_out'\n",
    "CAR_MASK = 'car_mask'\n",
    "TRACK_ID = 'track_id'\n",
    "\n",
    "# Column headers in the CSV files\n",
    "WAS_TARGET = 'was_target'\n",
    "V_OUT_X = ['v_out_x' + str(i) for i in range(1, 31)]\n",
    "V_OUT_Y = ['v_out_y' + str(i) for i in range(1, 31)]"
   ]
  },
  {
   "cell_type": "code",
   "execution_count": 4,
   "metadata": {},
   "outputs": [],
   "source": [
    "def describe(a, desc):\n",
    "    print(f\"{desc}\")\n",
    "    print(f\"min = {np.min(a)}\")\n",
    "    print(f\"max = {np.max(a)}\")\n",
    "    print(f\"mean = {np.mean(a)}\")\n",
    "    print(f\"median = {np.median(a)}\")\n",
    "    print(f\"standard deviation = {np.std(a)}\\n\")"
   ]
  },
  {
   "cell_type": "code",
   "execution_count": 5,
   "metadata": {},
   "outputs": [],
   "source": [
    "def plot_hist(x, y, bins, title, palette, xlbl, ylbl, fname):\n",
    "    \"\"\"\n",
    "    Plots a histogram of the two arrays x and y.\n",
    "    \"\"\"\n",
    "    fig, (ax1) = plt.subplots(nrows=1, ncols=1, figsize=(5, 5))\n",
    "    sns.set_palette(palette)\n",
    "    sns.histplot(ax=ax1, x=x, y=y, bins=bins, cbar=True)\n",
    "    ax1.set_xlabel(xlbl)\n",
    "    ax1.set_ylabel(ylbl);\n",
    "    ax1.set_title(title);\n",
    "    plt.savefig(fname)"
   ]
  },
  {
   "cell_type": "markdown",
   "metadata": {},
   "source": [
    "# Distribution of output velocities (training)"
   ]
  },
  {
   "cell_type": "code",
   "execution_count": 6,
   "metadata": {},
   "outputs": [],
   "source": [
    "df = pd.read_csv(OUT_VEL_FILE)"
   ]
  },
  {
   "cell_type": "code",
   "execution_count": 7,
   "metadata": {},
   "outputs": [],
   "source": [
    "# Get output velocities by group\n",
    "xtarg = df[df[WAS_TARGET] == 1][V_OUT_X].to_numpy()\n",
    "xtarg = xtarg.reshape(xtarg.shape[0] * xtarg.shape[1])\n",
    "ytarg = df[df[WAS_TARGET] == 1][V_OUT_Y].to_numpy()\n",
    "ytarg = ytarg.reshape(ytarg.shape[0] * ytarg.shape[1])\n",
    "\n",
    "xnon = df[df[WAS_TARGET] == 0][V_OUT_X].to_numpy()\n",
    "xnon = xnon.reshape(xnon.shape[0] * xnon.shape[1])\n",
    "ynon = df[df[WAS_TARGET] == 0][V_OUT_Y].to_numpy()\n",
    "ynon = ynon.reshape(ynon.shape[0] * ynon.shape[1])\n",
    "\n",
    "xall = df[V_OUT_X].to_numpy()\n",
    "xall = xall.reshape(xall.shape[0] * xall.shape[1])\n",
    "yall = df[V_OUT_Y].to_numpy()\n",
    "yall = yall.reshape(yall.shape[0] * yall.shape[1])"
   ]
  },
  {
   "cell_type": "code",
   "execution_count": 8,
   "metadata": {},
   "outputs": [
    {
     "name": "stdout",
     "output_type": "stream",
     "text": [
      "output x velocity\n",
      "min = -210.0390167236328\n",
      "max = 193.1862945556641\n",
      "mean = 0.14362513352257486\n",
      "median = 1.0890744306379929e-07\n",
      "standard deviation = 4.666555423675791\n",
      "\n"
     ]
    }
   ],
   "source": [
    "describe(xall, 'output x velocity')"
   ]
  },
  {
   "cell_type": "code",
   "execution_count": 9,
   "metadata": {},
   "outputs": [
    {
     "name": "stdout",
     "output_type": "stream",
     "text": [
      "output y velocity\n",
      "min = -187.7124328613281\n",
      "max = 194.3325042724609\n",
      "mean = -0.1731546750855955\n",
      "median = -0.0006993010174483061\n",
      "standard deviation = 5.754394486807422\n",
      "\n"
     ]
    }
   ],
   "source": [
    "describe(yall, 'output y velocity')"
   ]
  },
  {
   "cell_type": "code",
   "execution_count": null,
   "metadata": {},
   "outputs": [],
   "source": [
    "# Plot the positions\n",
    "title = 'Target agent output velocities (train)'\n",
    "palette = 'Reds'\n",
    "bins = 1000\n",
    "x_label, y_label = 'xall', 'yall'\n",
    "fname = '../milestone_images/outVelTargTrain'\n",
    "plot_hist(xtarg, ytarg, bins, title, palette, x_label, y_label, fname)\n",
    "\n",
    "title = 'Non-target-agent output velocities (train)'\n",
    "palette = 'Greens'\n",
    "fname = '../milestone_images/outVelNonTrain'\n",
    "plot_hist(xtarg, ytarg, bins, title, palette, x_label, y_label, fname)\n",
    "\n",
    "title = 'All agent output velocities (train)'\n",
    "palette = 'plasma'\n",
    "fname = '../milestone_images/outVelTrain'\n",
    "plot_hist(xall, yall, bins, title, palette, x_label, y_label, fname)"
   ]
  },
  {
   "cell_type": "code",
   "execution_count": null,
   "metadata": {},
   "outputs": [],
   "source": []
  }
 ],
 "metadata": {
  "kernelspec": {
   "display_name": "Python 3",
   "language": "python",
   "name": "python3"
  },
  "language_info": {
   "codemirror_mode": {
    "name": "ipython",
    "version": 3
   },
   "file_extension": ".py",
   "mimetype": "text/x-python",
   "name": "python",
   "nbconvert_exporter": "python",
   "pygments_lexer": "ipython3",
   "version": "3.8.5"
  }
 },
 "nbformat": 4,
 "nbformat_minor": 4
}
