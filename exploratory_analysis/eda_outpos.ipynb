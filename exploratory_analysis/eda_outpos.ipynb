{
 "cells": [
  {
   "cell_type": "code",
   "execution_count": 1,
   "metadata": {},
   "outputs": [],
   "source": [
    "import numpy as np\n",
    "import pandas as pd\n",
    "import matplotlib.pyplot as plt\n",
    "import seaborn as sns\n",
    "import scipy\n",
    "import os\n",
    "import pickle\n",
    "import tqdm\n",
    "import tqdm.notebook"
   ]
  },
  {
   "cell_type": "code",
   "execution_count": 2,
   "metadata": {},
   "outputs": [],
   "source": [
    "%matplotlib inline\n",
    "sns.set(rc={\"figure.dpi\":100, 'savefig.dpi':100})\n",
    "sns.set_context('notebook')"
   ]
  },
  {
   "cell_type": "code",
   "execution_count": 3,
   "metadata": {},
   "outputs": [],
   "source": [
    "# File paths\n",
    "OUT_POS_FILE = '../feature_data/output_positions.csv'\n",
    "\n",
    "# Keys to the pickle objects\n",
    "CITY = 'city'\n",
    "LANE = 'lane'\n",
    "LANE_NORM = 'lane_norm'\n",
    "SCENE_IDX = 'scene_idx'\n",
    "AGENT_ID = 'agent_id'\n",
    "P_IN = 'p_in'\n",
    "V_IN = 'v_in'\n",
    "P_OUT = 'p_out'\n",
    "V_OUT = 'v_out'\n",
    "CAR_MASK = 'car_mask'\n",
    "TRACK_ID = 'track_id'\n",
    "\n",
    "# Column headers in the CSV files\n",
    "WAS_TARGET = 'was_target'\n",
    "P_OUT_X = ['p_out_x' + str(i) for i in range(1, 31)]\n",
    "P_OUT_Y = ['p_out_y' + str(i) for i in range(1, 31)]"
   ]
  },
  {
   "cell_type": "code",
   "execution_count": 4,
   "metadata": {},
   "outputs": [],
   "source": [
    "def describe(a, desc):\n",
    "    print(f\"{desc}\")\n",
    "    print(f\"min = {np.min(a)}\")\n",
    "    print(f\"max = {np.max(a)}\")\n",
    "    print(f\"mean = {np.mean(a)}\")\n",
    "    print(f\"median = {np.median(a)}\")\n",
    "    print(f\"standard deviation = {np.std(a)}\\n\")"
   ]
  },
  {
   "cell_type": "code",
   "execution_count": 5,
   "metadata": {},
   "outputs": [],
   "source": [
    "def plot_hist(x, y, bins, title, palette, xlbl, ylbl, fname):\n",
    "    \"\"\"\n",
    "    Plots a histogram of the two arrays x and y.\n",
    "    \"\"\"\n",
    "    fig, (ax1) = plt.subplots(nrows=1, ncols=1, figsize=(5, 5))\n",
    "    sns.set_palette(palette)\n",
    "    sns.histplot(ax=ax1, x=x, y=y, bins=bins, cbar=True)\n",
    "    ax1.set_xlabel(xlbl)\n",
    "    ax1.set_ylabel(ylbl);\n",
    "    ax1.set_title(title);\n",
    "    plt.savefig(fname)"
   ]
  },
  {
   "cell_type": "markdown",
   "metadata": {},
   "source": [
    "# Distribution of output positions (training)"
   ]
  },
  {
   "cell_type": "code",
   "execution_count": 6,
   "metadata": {},
   "outputs": [],
   "source": [
    "df = pd.read_csv(OUT_POS_FILE)"
   ]
  },
  {
   "cell_type": "code",
   "execution_count": 7,
   "metadata": {},
   "outputs": [],
   "source": [
    "# Get all of the output x and y positions for target agents\n",
    "xpos_t = df[df[WAS_TARGET] == 1][P_OUT_X].to_numpy()\n",
    "xpos_t = xpos_t.reshape(xpos_t.shape[0] * xpos_t.shape[1])\n",
    "\n",
    "ypos_t = df[df[WAS_TARGET] == 1][P_OUT_Y].to_numpy()\n",
    "ypos_t = ypos_t.reshape(ypos_t.shape[0] * ypos_t.shape[1])\n",
    "\n",
    "# Get all of the output x and y positions for non-target agents\n",
    "xpos_n = df[df[WAS_TARGET] == 0][P_OUT_X].to_numpy()\n",
    "xpos_n = xpos_n.reshape(xpos_n.shape[0] * xpos_n.shape[1])\n",
    "\n",
    "ypos_n = df[df[WAS_TARGET] == 0][P_OUT_Y].to_numpy()\n",
    "ypos_n = ypos_n.reshape(ypos_n.shape[0] * ypos_n.shape[1])\n",
    "\n",
    "# Get all of the output x and y positions for all agents\n",
    "xpos = df[P_OUT_X].to_numpy()\n",
    "xpos = xpos.reshape(xpos.shape[0] * xpos.shape[1])\n",
    "\n",
    "ypos = df[P_OUT_Y].to_numpy()\n",
    "ypos = ypos.reshape(ypos.shape[0] * ypos.shape[1])"
   ]
  },
  {
   "cell_type": "code",
   "execution_count": 8,
   "metadata": {},
   "outputs": [
    {
     "name": "stdout",
     "output_type": "stream",
     "text": [
      "output x positions\n",
      "min = -60.59521484375\n",
      "max = 4772.96142578125\n",
      "mean = 1475.5169279862944\n",
      "median = 731.638427734375\n",
      "standard deviation = 1283.3762945780595\n",
      "\n"
     ]
    }
   ],
   "source": [
    "describe(xpos, 'output x positions')"
   ]
  },
  {
   "cell_type": "code",
   "execution_count": 9,
   "metadata": {},
   "outputs": [
    {
     "name": "stdout",
     "output_type": "stream",
     "text": [
      "output y positions\n",
      "min = 595.7562255859375\n",
      "max = 4097.95849609375\n",
      "mean = 2175.5613156244103\n",
      "median = 2167.5352783203125\n",
      "standard deviation = 867.833158763342\n",
      "\n"
     ]
    }
   ],
   "source": [
    "describe(ypos, 'output y positions')"
   ]
  },
  {
   "cell_type": "code",
   "execution_count": null,
   "metadata": {},
   "outputs": [],
   "source": [
    "# Plot the positions\n",
    "title = 'Target agent output positions (train)'\n",
    "palette = 'Reds'\n",
    "bins = 1000\n",
    "x_label, y_label = 'xpos', 'ypos'\n",
    "fname = '../milestone_images/outPosTargTrain'\n",
    "plot_hist(xpos_t, ypos_t, bins, title, palette, x_label, y_label, fname)\n",
    "\n",
    "title = 'Non-target-agent output positions (train)'\n",
    "palette = 'Greens'\n",
    "fname = '../milestone_images/outPosNonTrain'\n",
    "plot_hist(xpos_t, ypos_t, bins, title, palette, x_label, y_label, fname)\n",
    "\n",
    "title = 'All agent output positions (train)'\n",
    "palette = 'plasma'\n",
    "fname = '../milestone_images/outPosTrain'\n",
    "plot_hist(xpos, ypos, bins, title, palette, x_label, y_label, fname)"
   ]
  },
  {
   "cell_type": "code",
   "execution_count": null,
   "metadata": {},
   "outputs": [],
   "source": []
  }
 ],
 "metadata": {
  "kernelspec": {
   "display_name": "Python 3",
   "language": "python",
   "name": "python3"
  },
  "language_info": {
   "codemirror_mode": {
    "name": "ipython",
    "version": 3
   },
   "file_extension": ".py",
   "mimetype": "text/x-python",
   "name": "python",
   "nbconvert_exporter": "python",
   "pygments_lexer": "ipython3",
   "version": "3.8.5"
  }
 },
 "nbformat": 4,
 "nbformat_minor": 4
}
